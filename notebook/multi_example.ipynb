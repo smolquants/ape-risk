{
 "cells": [
  {
   "cell_type": "code",
   "execution_count": 12,
   "id": "1274300a",
   "metadata": {},
   "outputs": [],
   "source": [
    "import pandas as pd\n",
    "import numpy as np\n",
    "from ape_risk import strategies"
   ]
  },
  {
   "cell_type": "code",
   "execution_count": 13,
   "id": "a273ccfb",
   "metadata": {},
   "outputs": [],
   "source": [
    "params = [0, 0.005]\n",
    "C = np.asarray([[1, 0.5, 0.8], [0.5, 1, 0.4], [0.8, 0.4, 1]])\n",
    "scale = np.linalg.cholesky(C).tolist()\n",
    "shift = np.asarray([0, 0, 0]).tolist()"
   ]
  },
  {
   "cell_type": "code",
   "execution_count": 14,
   "id": "66cc65b9",
   "metadata": {},
   "outputs": [
    {
     "data": {
      "text/plain": [
       "array([[1. , 0.5, 0.8],\n",
       "       [0.5, 1. , 0.4],\n",
       "       [0.8, 0.4, 1. ]])"
      ]
     },
     "execution_count": 14,
     "metadata": {},
     "output_type": "execute_result"
    }
   ],
   "source": [
    "C"
   ]
  },
  {
   "cell_type": "code",
   "execution_count": 15,
   "id": "bf5f3fe7",
   "metadata": {},
   "outputs": [
    {
     "data": {
      "text/plain": [
       "[[1.0, 0.0, 0.0],\n",
       " [0.5, 0.8660254037844386, 0.0],\n",
       " [0.8, 0.0, 0.5999999999999999]]"
      ]
     },
     "execution_count": 15,
     "metadata": {},
     "output_type": "execute_result"
    }
   ],
   "source": [
    "scale"
   ]
  },
  {
   "cell_type": "code",
   "execution_count": 16,
   "id": "b97d4f59",
   "metadata": {},
   "outputs": [],
   "source": [
    "strat = strategies.multi_gbms(initial_value=1.0, num_points=10000, num_rvs=3, params=params, scale=scale, shift=shift)"
   ]
  },
  {
   "cell_type": "code",
   "execution_count": 17,
   "id": "fdcc43a8",
   "metadata": {},
   "outputs": [
    {
     "data": {
      "text/plain": [
       "array([[[0.99505027, 0.99858007, 0.99278772]],\n",
       "\n",
       "       [[0.99929894, 0.99084806, 0.99977272]],\n",
       "\n",
       "       [[1.00119315, 0.9947639 , 1.00268984]],\n",
       "\n",
       "       ...,\n",
       "\n",
       "       [[0.49278631, 1.08908551, 0.5221809 ]],\n",
       "\n",
       "       [[0.49261518, 1.08937637, 0.52148893]],\n",
       "\n",
       "       [[0.49410656, 1.09040202, 0.52209399]]])"
      ]
     },
     "execution_count": 17,
     "metadata": {},
     "output_type": "execute_result"
    }
   ],
   "source": [
    "ex = strat.example()\n",
    "ex"
   ]
  },
  {
   "cell_type": "code",
   "execution_count": 18,
   "id": "d415a7ed",
   "metadata": {},
   "outputs": [
    {
     "data": {
      "text/plain": [
       "array([[0.99505027, 0.99858007, 0.99278772],\n",
       "       [0.99929894, 0.99084806, 0.99977272],\n",
       "       [1.00119315, 0.9947639 , 1.00268984],\n",
       "       ...,\n",
       "       [0.49278631, 1.08908551, 0.5221809 ],\n",
       "       [0.49261518, 1.08937637, 0.52148893],\n",
       "       [0.49410656, 1.09040202, 0.52209399]])"
      ]
     },
     "execution_count": 18,
     "metadata": {},
     "output_type": "execute_result"
    }
   ],
   "source": [
    "ex = ex.reshape(10000, 3)\n",
    "ex"
   ]
  },
  {
   "cell_type": "code",
   "execution_count": 19,
   "id": "7f7a9533",
   "metadata": {},
   "outputs": [],
   "source": [
    "df = pd.DataFrame(ex, columns=['price0', 'price1', 'price2'])"
   ]
  },
  {
   "cell_type": "code",
   "execution_count": 20,
   "id": "9a234889",
   "metadata": {},
   "outputs": [
    {
     "data": {
      "text/html": [
       "<div>\n",
       "<style scoped>\n",
       "    .dataframe tbody tr th:only-of-type {\n",
       "        vertical-align: middle;\n",
       "    }\n",
       "\n",
       "    .dataframe tbody tr th {\n",
       "        vertical-align: top;\n",
       "    }\n",
       "\n",
       "    .dataframe thead th {\n",
       "        text-align: right;\n",
       "    }\n",
       "</style>\n",
       "<table border=\"1\" class=\"dataframe\">\n",
       "  <thead>\n",
       "    <tr style=\"text-align: right;\">\n",
       "      <th></th>\n",
       "      <th>price0</th>\n",
       "      <th>price1</th>\n",
       "      <th>price2</th>\n",
       "    </tr>\n",
       "  </thead>\n",
       "  <tbody>\n",
       "    <tr>\n",
       "      <th>0</th>\n",
       "      <td>0.995050</td>\n",
       "      <td>0.998580</td>\n",
       "      <td>0.992788</td>\n",
       "    </tr>\n",
       "    <tr>\n",
       "      <th>1</th>\n",
       "      <td>0.999299</td>\n",
       "      <td>0.990848</td>\n",
       "      <td>0.999773</td>\n",
       "    </tr>\n",
       "    <tr>\n",
       "      <th>2</th>\n",
       "      <td>1.001193</td>\n",
       "      <td>0.994764</td>\n",
       "      <td>1.002690</td>\n",
       "    </tr>\n",
       "    <tr>\n",
       "      <th>3</th>\n",
       "      <td>0.999771</td>\n",
       "      <td>0.993993</td>\n",
       "      <td>1.009726</td>\n",
       "    </tr>\n",
       "    <tr>\n",
       "      <th>4</th>\n",
       "      <td>1.000601</td>\n",
       "      <td>0.997867</td>\n",
       "      <td>1.015737</td>\n",
       "    </tr>\n",
       "    <tr>\n",
       "      <th>...</th>\n",
       "      <td>...</td>\n",
       "      <td>...</td>\n",
       "      <td>...</td>\n",
       "    </tr>\n",
       "    <tr>\n",
       "      <th>9995</th>\n",
       "      <td>0.492032</td>\n",
       "      <td>1.090191</td>\n",
       "      <td>0.521837</td>\n",
       "    </tr>\n",
       "    <tr>\n",
       "      <th>9996</th>\n",
       "      <td>0.490173</td>\n",
       "      <td>1.089875</td>\n",
       "      <td>0.521239</td>\n",
       "    </tr>\n",
       "    <tr>\n",
       "      <th>9997</th>\n",
       "      <td>0.492786</td>\n",
       "      <td>1.089086</td>\n",
       "      <td>0.522181</td>\n",
       "    </tr>\n",
       "    <tr>\n",
       "      <th>9998</th>\n",
       "      <td>0.492615</td>\n",
       "      <td>1.089376</td>\n",
       "      <td>0.521489</td>\n",
       "    </tr>\n",
       "    <tr>\n",
       "      <th>9999</th>\n",
       "      <td>0.494107</td>\n",
       "      <td>1.090402</td>\n",
       "      <td>0.522094</td>\n",
       "    </tr>\n",
       "  </tbody>\n",
       "</table>\n",
       "<p>10000 rows × 3 columns</p>\n",
       "</div>"
      ],
      "text/plain": [
       "        price0    price1    price2\n",
       "0     0.995050  0.998580  0.992788\n",
       "1     0.999299  0.990848  0.999773\n",
       "2     1.001193  0.994764  1.002690\n",
       "3     0.999771  0.993993  1.009726\n",
       "4     1.000601  0.997867  1.015737\n",
       "...        ...       ...       ...\n",
       "9995  0.492032  1.090191  0.521837\n",
       "9996  0.490173  1.089875  0.521239\n",
       "9997  0.492786  1.089086  0.522181\n",
       "9998  0.492615  1.089376  0.521489\n",
       "9999  0.494107  1.090402  0.522094\n",
       "\n",
       "[10000 rows x 3 columns]"
      ]
     },
     "execution_count": 20,
     "metadata": {},
     "output_type": "execute_result"
    }
   ],
   "source": [
    "df"
   ]
  },
  {
   "cell_type": "code",
   "execution_count": 23,
   "id": "9f689cad",
   "metadata": {},
   "outputs": [
    {
     "data": {
      "image/png": "[encoded data removed]",
      "text/plain": [
       "<Figure size 640x480 with 1 Axes>"
      ]
     },
     "metadata": {},
     "output_type": "display_data"
    }
   ],
   "source": [
    "ax = df.plot()\n",
    "ax.get_figure().savefig('multi_example.png')"
   ]
  },
  {
   "cell_type": "code",
   "execution_count": 24,
   "id": "4b1397eb",
   "metadata": {},
   "outputs": [],
   "source": [
    "df.to_csv(\"../tests/helpers/multi_example.csv\", index=False)"
   ]
  },
  {
   "cell_type": "code",
   "execution_count": null,
   "id": "25e9592f",
   "metadata": {},
   "outputs": [],
   "source": []
  }
 ],
 "metadata": {
  "kernelspec": {
   "display_name": "Python 3 (ipykernel)",
   "language": "python",
   "name": "python3"
  },
  "language_info": {
   "codemirror_mode": {
    "name": "ipython",
    "version": 3
   },
   "file_extension": ".py",
   "mimetype": "text/x-python",
   "name": "python",
   "nbconvert_exporter": "python",
   "pygments_lexer": "ipython3",
   "version": "3.9.6"
  }
 },
 "nbformat": 4,
 "nbformat_minor": 5
}
